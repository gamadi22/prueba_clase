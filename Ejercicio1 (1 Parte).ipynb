{
 "cells": [
  {
   "cell_type": "markdown",
   "metadata": {},
   "source": [
    "# Primera Clase"
   ]
  },
  {
   "cell_type": "code",
   "execution_count": 1,
   "metadata": {},
   "outputs": [
    {
     "name": "stdout",
     "output_type": "stream",
     "text": [
      "Hola Mundo\n"
     ]
    }
   ],
   "source": [
    "print (\"Hola Mundo\")"
   ]
  },
  {
   "cell_type": "code",
   "execution_count": 2,
   "metadata": {},
   "outputs": [
    {
     "name": "stdout",
     "output_type": "stream",
     "text": [
      "Enero, Febrero, Marzo,..., Diciembre\n"
     ]
    }
   ],
   "source": [
    "print (\"Enero, Febrero, Marzo,..., Diciembre\")"
   ]
  },
  {
   "cell_type": "code",
   "execution_count": 3,
   "metadata": {},
   "outputs": [
    {
     "name": "stdout",
     "output_type": "stream",
     "text": [
      "5\n"
     ]
    }
   ],
   "source": [
    "# Si solo pudiésemos hacer operaciones con literales, estaríamos bastante limitados. \n",
    "# Para conseguir que Python haga por nosotros tareas más complejas necesitamos usar \n",
    "# las llamadas variables.\n",
    "\n",
    "variable = 5\n",
    "print (variable)"
   ]
  },
  {
   "cell_type": "code",
   "execution_count": 4,
   "metadata": {},
   "outputs": [
    {
     "name": "stdout",
     "output_type": "stream",
     "text": [
      "5\n"
     ]
    }
   ],
   "source": [
    "# En Python no es necesario declarar las variables explícitamente antes de usarlas, \n",
    "# y adoptan el tipo cuando se les asigna valor.\n",
    "\n",
    "variable = 5\n",
    "print (variable)\n",
    "\n",
    "# Esto imprimirá 5"
   ]
  },
  {
   "cell_type": "code",
   "execution_count": 5,
   "metadata": {},
   "outputs": [
    {
     "name": "stdout",
     "output_type": "stream",
     "text": [
      "1\n",
      "dos\n",
      "3.0\n"
     ]
    }
   ],
   "source": [
    "# Python es un lenguaje de tipado dinámico, al asignar un valor a una variable \n",
    "# decidimos implícitamente el tipo de dato.\n",
    "\n",
    "primera_variable, segunda_variable, tercera_variable = 1, \"dos\", 3.0\n",
    "print (primera_variable)\n",
    "print (segunda_variable)\n",
    "print (tercera_variable)"
   ]
  },
  {
   "cell_type": "code",
   "execution_count": 6,
   "metadata": {},
   "outputs": [
    {
     "name": "stdout",
     "output_type": "stream",
     "text": [
      "12\n"
     ]
    }
   ],
   "source": [
    "numero = 5\n",
    "resultado = numero + 7\n",
    "print (resultado)"
   ]
  },
  {
   "cell_type": "code",
   "execution_count": 7,
   "metadata": {},
   "outputs": [
    {
     "name": "stdout",
     "output_type": "stream",
     "text": [
      "13\n",
      "Hola Mundo\n"
     ]
    }
   ],
   "source": [
    "primer_numero = 5\n",
    "segundo_numero = 8\n",
    "suma = primer_numero + segundo_numero\n",
    "print (suma)\n",
    "\n",
    "primera_cadena = \"Hola\"\n",
    "segunda_cadena = \" Mundo\"\n",
    "union = primera_cadena + segunda_cadena\n",
    "\n",
    "print (union)"
   ]
  },
  {
   "cell_type": "code",
   "execution_count": 9,
   "metadata": {},
   "outputs": [
    {
     "name": "stdout",
     "output_type": "stream",
     "text": [
      "5Hola\n"
     ]
    }
   ],
   "source": [
    "# Python es un lenguaje “fuertemente tipado” de forma que no permite mezclar tipos de datos libremente.\n",
    "\n",
    "numero = str(5)\n",
    "cadena = \"Hola\"\n",
    "\n",
    "union = numero + cadena\n",
    "print (union)\n",
    "\n",
    "## Ver tipos de datos (23)##"
   ]
  },
  {
   "cell_type": "code",
   "execution_count": 10,
   "metadata": {},
   "outputs": [
    {
     "name": "stdout",
     "output_type": "stream",
     "text": [
      "<class 'str'>\n",
      "<class 'float'>\n",
      "<class 'int'>\n",
      "<class 'int'>\n"
     ]
    }
   ],
   "source": [
    "texto = \"10\"\n",
    "decimal = 21.15\n",
    "un_entero = int (texto)\n",
    "print (type(texto))\n",
    "print (type(decimal))\n",
    "print (type(un_entero))\n",
    "print (type(int(decimal)))"
   ]
  },
  {
   "cell_type": "markdown",
   "metadata": {},
   "source": [
    "Existen también funciones de conversión de datos... revisad las que existen en Python."
   ]
  },
  {
   "cell_type": "code",
   "execution_count": 11,
   "metadata": {},
   "outputs": [
    {
     "data": {
      "text/plain": [
       "2"
      ]
     },
     "execution_count": 11,
     "metadata": {},
     "output_type": "execute_result"
    }
   ],
   "source": [
    "int(2.7)"
   ]
  },
  {
   "cell_type": "code",
   "execution_count": 12,
   "metadata": {},
   "outputs": [
    {
     "data": {
      "text/plain": [
       "2.0"
      ]
     },
     "execution_count": 12,
     "metadata": {},
     "output_type": "execute_result"
    }
   ],
   "source": [
    "float(2)"
   ]
  },
  {
   "cell_type": "code",
   "execution_count": 13,
   "metadata": {},
   "outputs": [
    {
     "data": {
      "text/plain": [
       "3"
      ]
     },
     "execution_count": 13,
     "metadata": {},
     "output_type": "execute_result"
    }
   ],
   "source": [
    "round(2.7)"
   ]
  },
  {
   "cell_type": "code",
   "execution_count": 14,
   "metadata": {},
   "outputs": [
    {
     "data": {
      "text/plain": [
       "'2'"
      ]
     },
     "execution_count": 14,
     "metadata": {},
     "output_type": "execute_result"
    }
   ],
   "source": [
    "str(2)"
   ]
  },
  {
   "cell_type": "code",
   "execution_count": 15,
   "metadata": {},
   "outputs": [
    {
     "name": "stdout",
     "output_type": "stream",
     "text": [
      "0x1f4\n",
      "0o764\n"
     ]
    }
   ],
   "source": [
    "entero = 500\n",
    "hexadecimal = hex(entero)\n",
    "print(hexadecimal)\n",
    "\n",
    "octal = oct(entero)\n",
    "print(octal)"
   ]
  },
  {
   "cell_type": "code",
   "execution_count": 16,
   "metadata": {},
   "outputs": [
    {
     "name": "stdout",
     "output_type": "stream",
     "text": [
      "10\n",
      "3\n",
      "13\n",
      "7\n",
      "30\n",
      "3.3333333333333335\n",
      "1000\n",
      "1\n",
      "3\n"
     ]
    }
   ],
   "source": [
    "# Los operadores matemáticos se aplican a valores numéricos, consignan las operaciones matemáticas\n",
    "# básicas...\n",
    "\n",
    "primer_numero = 10\n",
    "segundo_numero = 3\n",
    "suma = primer_numero + segundo_numero\n",
    "resta = primer_numero - segundo_numero\n",
    "multiplicacion = primer_numero * segundo_numero\n",
    "division = primer_numero / segundo_numero\n",
    "potencia = primer_numero ** segundo_numero\n",
    "modulo = primer_numero % segundo_numero\n",
    "division_entera = primer_numero // segundo_numero\n",
    "\n",
    "print (primer_numero)\n",
    "print (segundo_numero)\n",
    "print(suma)\n",
    "print(resta)\n",
    "print(multiplicacion)\n",
    "print(division)\n",
    "print(potencia)\n",
    "print(modulo)\n",
    "print(division_entera)"
   ]
  },
  {
   "cell_type": "raw",
   "metadata": {},
   "source": [
    "Revisad los operadores de asignación:\n",
    "+= (suma con asignación)\n",
    "-= (resta con asignación)\n",
    "*= (multiplicación con asignación)\n",
    "/= (división con asignación)\n",
    "**= (exponente con asignación)\n",
    "//= (división entera con asignación)\n",
    "%= (módulo con asignación)\n",
    "\n",
    "Los operadores de comparación sirven para comparar números, cadenas, objetos y, en general, cualquier cosa en Python.\n",
    "\n",
    "== (igualdad)\n",
    "!= (desigualdad)\n",
    "<> (desigualdad)\n",
    "> (mayor que)\n",
    "< (menor que)\n",
    ">= (mayor o igual que)\n",
    "<= (menor o igual que)\n",
    "\n",
    "Los operadores booleanos sirven para realizar operaciones con valores lógicos (AND, OR, NOT)"
   ]
  },
  {
   "cell_type": "code",
   "execution_count": 17,
   "metadata": {},
   "outputs": [
    {
     "name": "stdout",
     "output_type": "stream",
     "text": [
      "False\n",
      "True\n",
      "True\n",
      "False\n",
      "True\n"
     ]
    }
   ],
   "source": [
    "numero = 7\n",
    "texto = \"Hola Mundo\"\n",
    "print (3 == 2)\n",
    "print (3 > 2)\n",
    "print (texto == \"Hola Mundo\")\n",
    "print (texto == \"Hola mundo\")\n",
    "print (7 >= 6)"
   ]
  },
  {
   "cell_type": "code",
   "execution_count": 18,
   "metadata": {},
   "outputs": [
    {
     "name": "stdout",
     "output_type": "stream",
     "text": [
      "Hola Mundo\n",
      "CoCoCoCo\n"
     ]
    }
   ],
   "source": [
    "saludo = \"Hola\"\n",
    "saludo += \" Mundo\"\n",
    "print (saludo)\n",
    "\n",
    "gallina =\"Co\"\n",
    "gallina = 4 * gallina\n",
    "print (gallina)"
   ]
  },
  {
   "cell_type": "code",
   "execution_count": 19,
   "metadata": {},
   "outputs": [
    {
     "name": "stdout",
     "output_type": "stream",
     "text": [
      "False\n"
     ]
    }
   ],
   "source": [
    "# Un caso especial son los operadores de identidad, is y is not. \n",
    "# Ambos sirven para comparar elementos. El operador is devuelve True si ambos elementos comparados \n",
    "# son el mismo objeto (poseen el mismo id), y False en caso contrario. \n",
    "# El operador is not hace lo opuesto.\n",
    "\n",
    "variable1 = 6\n",
    "variable2 = 6.0\n",
    "\n",
    "print (variable1 is variable2)"
   ]
  },
  {
   "cell_type": "code",
   "execution_count": null,
   "metadata": {},
   "outputs": [],
   "source": [
    "# El operador in retorna un valor True si el elemento indicado a la izquierda del operador \n",
    "# está en la secuencia indicada a la derecha del operador. \n",
    "# El operador not in hace lo contrario, y da True si el elemento no está en la secuencia y \n",
    "# False si lo está."
   ]
  },
  {
   "cell_type": "code",
   "execution_count": 20,
   "metadata": {},
   "outputs": [
    {
     "name": "stdout",
     "output_type": "stream",
     "text": [
      "True\n"
     ]
    }
   ],
   "source": [
    "# Una lista (array) es una variable que, en lugar de contener un valor, \n",
    "# contiene una secuencia ordenada de estos.\n",
    "\n",
    "Lista = [\"silla\", \"mesa\", \"armario\", \"reloj\"]\n",
    "print (\"silla\" in Lista)\n",
    "\n",
    "## IMPORTANTE: evaluación de operaciones orden (39) "
   ]
  },
  {
   "cell_type": "code",
   "execution_count": 21,
   "metadata": {},
   "outputs": [
    {
     "name": "stdout",
     "output_type": "stream",
     "text": [
      "False\n"
     ]
    }
   ],
   "source": [
    "print (\"ropero\" in Lista)"
   ]
  },
  {
   "cell_type": "code",
   "execution_count": 22,
   "metadata": {},
   "outputs": [
    {
     "name": "stdout",
     "output_type": "stream",
     "text": [
      "['silla', 'mesa', 'armario', 'reloj']\n"
     ]
    }
   ],
   "source": [
    "print (Lista)"
   ]
  },
  {
   "cell_type": "code",
   "execution_count": 23,
   "metadata": {},
   "outputs": [
    {
     "name": "stdout",
     "output_type": "stream",
     "text": [
      "['uno', 'dos', 'tres', 'cuatro']\n"
     ]
    }
   ],
   "source": [
    "# Para acceder a un elemento de la lista (r/w), \n",
    "# es necesario indicar la posición (se empieza a contar desde 0).\n",
    "\n",
    "lista = []\n",
    "lista = list((\"uno\", \"dos\", \"tres\", \"cuatro\"))\n",
    "print (lista)"
   ]
  },
  {
   "cell_type": "code",
   "execution_count": 24,
   "metadata": {},
   "outputs": [
    {
     "name": "stdout",
     "output_type": "stream",
     "text": [
      "tres\n"
     ]
    }
   ],
   "source": [
    "print (lista[2])"
   ]
  },
  {
   "cell_type": "code",
   "execution_count": 25,
   "metadata": {},
   "outputs": [],
   "source": [
    "lista[2] = \"Nuevo Número\""
   ]
  },
  {
   "cell_type": "code",
   "execution_count": 26,
   "metadata": {},
   "outputs": [
    {
     "name": "stdout",
     "output_type": "stream",
     "text": [
      "Nuevo Número\n"
     ]
    }
   ],
   "source": [
    "print (lista[2])"
   ]
  },
  {
   "cell_type": "code",
   "execution_count": 27,
   "metadata": {},
   "outputs": [
    {
     "name": "stdout",
     "output_type": "stream",
     "text": [
      "['uno', 'dos', 'Nuevo Número', 'cuatro']\n"
     ]
    }
   ],
   "source": [
    "print(lista)"
   ]
  },
  {
   "cell_type": "code",
   "execution_count": 28,
   "metadata": {},
   "outputs": [
    {
     "name": "stdout",
     "output_type": "stream",
     "text": [
      "[[1, 2, 3], ['a', 'b', 'c']]\n"
     ]
    }
   ],
   "source": [
    "# Una lista puede contener datos de todo tipo, y dentro de una lista mezclar tipos de dato.\n",
    "\n",
    "lista = [[1, 2, 3], [\"a\", \"b\", \"c\"]]\n",
    "print (lista)"
   ]
  },
  {
   "cell_type": "code",
   "execution_count": 29,
   "metadata": {},
   "outputs": [
    {
     "name": "stdout",
     "output_type": "stream",
     "text": [
      "3\n"
     ]
    }
   ],
   "source": [
    "print (lista [0] [2])"
   ]
  },
  {
   "cell_type": "code",
   "execution_count": 30,
   "metadata": {},
   "outputs": [
    {
     "name": "stdout",
     "output_type": "stream",
     "text": [
      "b\n"
     ]
    }
   ],
   "source": [
    "print (lista [1] [1])"
   ]
  },
  {
   "cell_type": "code",
   "execution_count": 31,
   "metadata": {},
   "outputs": [
    {
     "name": "stdout",
     "output_type": "stream",
     "text": [
      "['uno', 'dos', 'tres', 'cuatro']\n"
     ]
    }
   ],
   "source": [
    "lista = []\n",
    "lista = list((\"uno\", \"dos\", \"tres\", \"cuatro\"))\n",
    "print (lista)"
   ]
  },
  {
   "cell_type": "code",
   "execution_count": 32,
   "metadata": {},
   "outputs": [
    {
     "data": {
      "text/plain": [
       "['dos', 'tres', 'cuatro']"
      ]
     },
     "execution_count": 32,
     "metadata": {},
     "output_type": "execute_result"
    }
   ],
   "source": [
    "# También se puede acceder a un fragmento de la lista original usando el signo dos puntos (:).\n",
    "\n",
    "lista [1:4]"
   ]
  },
  {
   "cell_type": "code",
   "execution_count": 33,
   "metadata": {},
   "outputs": [],
   "source": [
    "lista = [1,2,3,4,5,6,7,8,9,10,11,12,13,14,15,16,17]"
   ]
  },
  {
   "cell_type": "code",
   "execution_count": 34,
   "metadata": {},
   "outputs": [
    {
     "name": "stdout",
     "output_type": "stream",
     "text": [
      "[3, 4, 5, 6, 7, 8, 9, 10, 11, 12, 13, 14, 15]\n"
     ]
    }
   ],
   "source": [
    "print(lista[2:15])"
   ]
  },
  {
   "cell_type": "code",
   "execution_count": 35,
   "metadata": {},
   "outputs": [
    {
     "name": "stdout",
     "output_type": "stream",
     "text": [
      "[1, 3, 5, 7, 9, 11, 13, 15]\n"
     ]
    }
   ],
   "source": [
    "# También se puede añadir un tercer número, separado por dos puntos (:), y devuelva uno de cada dos… \n",
    "\n",
    "print (lista[0:15:2])"
   ]
  },
  {
   "cell_type": "code",
   "execution_count": 36,
   "metadata": {},
   "outputs": [],
   "source": [
    "# Una tupla es parecida a una lista con la salvedad que no puede modificarse. \n",
    "# Las tuplas son objetos inmutables.\n",
    "\n",
    "tupla = \"primero\", \"segundo\", \"tercero\", \"cuarto\", \"quinto\""
   ]
  },
  {
   "cell_type": "code",
   "execution_count": 37,
   "metadata": {},
   "outputs": [
    {
     "name": "stdout",
     "output_type": "stream",
     "text": [
      "('primero', 'segundo', 'tercero', 'cuarto', 'quinto')\n"
     ]
    }
   ],
   "source": [
    "print (tupla)"
   ]
  },
  {
   "cell_type": "code",
   "execution_count": 38,
   "metadata": {},
   "outputs": [
    {
     "ename": "TypeError",
     "evalue": "'tuple' object does not support item assignment",
     "output_type": "error",
     "traceback": [
      "\u001b[1;31m---------------------------------------------------------------------------\u001b[0m",
      "\u001b[1;31mTypeError\u001b[0m                                 Traceback (most recent call last)",
      "\u001b[1;32m<ipython-input-38-ed8b3341b49f>\u001b[0m in \u001b[0;36m<module>\u001b[1;34m\u001b[0m\n\u001b[1;32m----> 1\u001b[1;33m \u001b[0mtupla\u001b[0m\u001b[1;33m[\u001b[0m\u001b[1;36m2\u001b[0m\u001b[1;33m]\u001b[0m \u001b[1;33m=\u001b[0m \u001b[1;34m\"Adios\"\u001b[0m\u001b[1;33m\u001b[0m\u001b[1;33m\u001b[0m\u001b[0m\n\u001b[0m",
      "\u001b[1;31mTypeError\u001b[0m: 'tuple' object does not support item assignment"
     ]
    }
   ],
   "source": [
    "tupla[2] = \"Adios\""
   ]
  },
  {
   "cell_type": "code",
   "execution_count": 39,
   "metadata": {},
   "outputs": [
    {
     "name": "stdout",
     "output_type": "stream",
     "text": [
      "tercero\n"
     ]
    }
   ],
   "source": [
    "print (tupla[2])"
   ]
  },
  {
   "cell_type": "code",
   "execution_count": 40,
   "metadata": {},
   "outputs": [
    {
     "name": "stdout",
     "output_type": "stream",
     "text": [
      "('segundo', 'tercero')\n"
     ]
    }
   ],
   "source": [
    "print (tupla[1:3])"
   ]
  },
  {
   "cell_type": "code",
   "execution_count": 41,
   "metadata": {},
   "outputs": [],
   "source": [
    "# Las cadenas se pueden comportar como una lista de caracteres, se puede acceder \n",
    "# a los caracteres como elementos de una tupla.\n",
    "\n",
    "cadena = \"Hola Mundo\""
   ]
  },
  {
   "cell_type": "code",
   "execution_count": 42,
   "metadata": {},
   "outputs": [
    {
     "name": "stdout",
     "output_type": "stream",
     "text": [
      "o\n"
     ]
    }
   ],
   "source": [
    "print (cadena [1])"
   ]
  },
  {
   "cell_type": "code",
   "execution_count": 43,
   "metadata": {},
   "outputs": [
    {
     "name": "stdout",
     "output_type": "stream",
     "text": [
      "ola \n"
     ]
    }
   ],
   "source": [
    "print (cadena [1:5])"
   ]
  },
  {
   "cell_type": "code",
   "execution_count": 44,
   "metadata": {},
   "outputs": [
    {
     "name": "stdout",
     "output_type": "stream",
     "text": [
      "Hl ud\n"
     ]
    }
   ],
   "source": [
    "print (cadena [0:10:2])"
   ]
  },
  {
   "cell_type": "code",
   "execution_count": 45,
   "metadata": {},
   "outputs": [],
   "source": [
    "# Un diccionario es un conjunto de valores emparejados.\n",
    "\n",
    "diccionario = {\"animal\": \"gato\", \"cosa\": \"piedra\", \"planta\": \"lechuga\"}"
   ]
  },
  {
   "cell_type": "code",
   "execution_count": 46,
   "metadata": {},
   "outputs": [
    {
     "name": "stdout",
     "output_type": "stream",
     "text": [
      "{'animal': 'gato', 'cosa': 'piedra', 'planta': 'lechuga'}\n"
     ]
    }
   ],
   "source": [
    "print (diccionario)"
   ]
  },
  {
   "cell_type": "code",
   "execution_count": 47,
   "metadata": {},
   "outputs": [
    {
     "name": "stdout",
     "output_type": "stream",
     "text": [
      "gato\n"
     ]
    }
   ],
   "source": [
    "print (diccionario [\"animal\"])"
   ]
  },
  {
   "cell_type": "code",
   "execution_count": 48,
   "metadata": {},
   "outputs": [
    {
     "name": "stdout",
     "output_type": "stream",
     "text": [
      "piedra\n"
     ]
    }
   ],
   "source": [
    "print (diccionario [\"cosa\"])"
   ]
  },
  {
   "cell_type": "code",
   "execution_count": 49,
   "metadata": {},
   "outputs": [
    {
     "name": "stdout",
     "output_type": "stream",
     "text": [
      "lechuga\n"
     ]
    }
   ],
   "source": [
    "print (diccionario [\"planta\"])"
   ]
  },
  {
   "cell_type": "code",
   "execution_count": 50,
   "metadata": {},
   "outputs": [],
   "source": [
    "diccionario [\"planta\"] = \"coliflor\""
   ]
  },
  {
   "cell_type": "code",
   "execution_count": 51,
   "metadata": {},
   "outputs": [
    {
     "name": "stdout",
     "output_type": "stream",
     "text": [
      "coliflor\n"
     ]
    }
   ],
   "source": [
    "print (diccionario [\"planta\"])"
   ]
  },
  {
   "cell_type": "code",
   "execution_count": 52,
   "metadata": {},
   "outputs": [],
   "source": [
    "cubiertos = {\"tenedor\", \"cuchara\", \"cuchillo\", \"cucharilla\"}"
   ]
  },
  {
   "cell_type": "code",
   "execution_count": 53,
   "metadata": {},
   "outputs": [],
   "source": [
    "# Un set es una colección ordenada de objetos, no posee índice y no puede contener objetos repetidos.\n",
    "\n",
    "vajilla = set ([\"plato\", \"taza\", \"copa\"])"
   ]
  },
  {
   "cell_type": "code",
   "execution_count": 54,
   "metadata": {},
   "outputs": [
    {
     "name": "stdout",
     "output_type": "stream",
     "text": [
      "{'cuchara', 'tenedor', 'cuchillo', 'cucharilla'}\n"
     ]
    }
   ],
   "source": [
    "print (cubiertos)"
   ]
  },
  {
   "cell_type": "code",
   "execution_count": 55,
   "metadata": {},
   "outputs": [
    {
     "name": "stdout",
     "output_type": "stream",
     "text": [
      "{'copa', 'taza', 'plato'}\n"
     ]
    }
   ],
   "source": [
    "print (vajilla)"
   ]
  },
  {
   "cell_type": "code",
   "execution_count": 56,
   "metadata": {},
   "outputs": [],
   "source": [
    "# En Python una variable es una referencia a un dato. \n",
    "# Cuando copiamos una variable creamos una etiqueta apuntando a ese dato.\n",
    "\n",
    "variable1 = \"Hola\""
   ]
  },
  {
   "cell_type": "code",
   "execution_count": 57,
   "metadata": {},
   "outputs": [],
   "source": [
    "variable2 = variable1"
   ]
  },
  {
   "cell_type": "code",
   "execution_count": 58,
   "metadata": {},
   "outputs": [],
   "source": [
    "variable3 = \"adios\""
   ]
  },
  {
   "cell_type": "code",
   "execution_count": 60,
   "metadata": {},
   "outputs": [
    {
     "name": "stdout",
     "output_type": "stream",
     "text": [
      "1778086843952\n"
     ]
    }
   ],
   "source": [
    "print (id(variable1))"
   ]
  },
  {
   "cell_type": "code",
   "execution_count": 61,
   "metadata": {},
   "outputs": [
    {
     "name": "stdout",
     "output_type": "stream",
     "text": [
      "1778086843952\n"
     ]
    }
   ],
   "source": [
    "print (id(variable2))"
   ]
  },
  {
   "cell_type": "code",
   "execution_count": 62,
   "metadata": {},
   "outputs": [
    {
     "name": "stdout",
     "output_type": "stream",
     "text": [
      "1778087702192\n"
     ]
    }
   ],
   "source": [
    "print (id(variable3))"
   ]
  },
  {
   "cell_type": "markdown",
   "metadata": {},
   "source": [
    "# Estructuras de Control"
   ]
  },
  {
   "cell_type": "code",
   "execution_count": 63,
   "metadata": {},
   "outputs": [
    {
     "name": "stdout",
     "output_type": "stream",
     "text": [
      "la variable es mayor que 5\n",
      "esto se muestra siempre.\n"
     ]
    }
   ],
   "source": [
    "# La estructura de control por excelencia es la sentencia IF.\n",
    "variable = 7\n",
    "if variable > 5:\n",
    "    print (\"la variable es mayor que 5\")\n",
    "print (\"esto se muestra siempre.\")"
   ]
  },
  {
   "cell_type": "code",
   "execution_count": 64,
   "metadata": {},
   "outputs": [
    {
     "name": "stdout",
     "output_type": "stream",
     "text": [
      "print la variable es menor que 3\n"
     ]
    }
   ],
   "source": [
    "variable = 2\n",
    "if variable > 3:\n",
    "    print (\"La variable es mayor que 3\")\n",
    "else:\n",
    "    print (\"print la variable es menor que 3\") "
   ]
  },
  {
   "cell_type": "code",
   "execution_count": 67,
   "metadata": {},
   "outputs": [
    {
     "name": "stdout",
     "output_type": "stream",
     "text": [
      "La variable es menor que 3.\n"
     ]
    }
   ],
   "source": [
    "variable = 2\n",
    "if variable > 3:\n",
    "    print (\"La variable es mayor que 3.\")\n",
    "    print (\"No está mal\")\n",
    "elif variable < 3:\n",
    "    print (\"La variable es menor que 3.\")\n",
    "else: \n",
    "    print (\"La variable es 3.\")"
   ]
  },
  {
   "cell_type": "code",
   "execution_count": 70,
   "metadata": {},
   "outputs": [
    {
     "name": "stdout",
     "output_type": "stream",
     "text": [
      "1\n",
      "2\n",
      "3\n",
      "4\n",
      "5\n",
      "6\n",
      "7\n",
      "8\n",
      "9\n",
      "10\n"
     ]
    }
   ],
   "source": [
    "# La instrucción WHILE crea un bucle que se ejecutará mientras su condición sea cierta.\n",
    "\n",
    "a = 0\n",
    "\n",
    "while a < 10:\n",
    "    a = a + 1\n",
    "    print (a)"
   ]
  },
  {
   "cell_type": "code",
   "execution_count": 71,
   "metadata": {},
   "outputs": [
    {
     "name": "stdout",
     "output_type": "stream",
     "text": [
      "1\n",
      "2\n"
     ]
    }
   ],
   "source": [
    "a = 0\n",
    "\n",
    "while a < 10:\n",
    "    a = a + 1\n",
    "    if a == 3:\n",
    "        break\n",
    "    print (a)"
   ]
  },
  {
   "cell_type": "code",
   "execution_count": 72,
   "metadata": {},
   "outputs": [
    {
     "name": "stdout",
     "output_type": "stream",
     "text": [
      "1\n",
      "2\n",
      "4\n",
      "5\n",
      "6\n",
      "7\n",
      "8\n",
      "9\n",
      "10\n"
     ]
    }
   ],
   "source": [
    "a = 0\n",
    "\n",
    "while a < 10:\n",
    "    a = a + 1\n",
    "    if a == 3:\n",
    "        continue\n",
    "    print (a)"
   ]
  },
  {
   "cell_type": "markdown",
   "metadata": {},
   "source": [
    "EJERCICIO 1:\n",
    "\n",
    "ESCRIBIR UN PEQUEÑO PROGRAMA QUE IMPRIMA LAS TABLAS DE MULTIPLICAR DEL TRES AL SIETE"
   ]
  },
  {
   "cell_type": "code",
   "execution_count": 73,
   "metadata": {},
   "outputs": [
    {
     "name": "stdout",
     "output_type": "stream",
     "text": [
      "Tabla del 3\n",
      "3 X 1 = 3\n",
      "3 X 2 = 6\n",
      "3 X 3 = 9\n",
      "3 X 4 = 12\n",
      "3 X 5 = 15\n",
      "3 X 6 = 18\n",
      "3 X 7 = 21\n",
      "3 X 8 = 24\n",
      "3 X 9 = 27\n",
      "3 X 10 = 30\n",
      "Tabla del 4\n",
      "4 X 1 = 4\n",
      "4 X 2 = 8\n",
      "4 X 3 = 12\n",
      "4 X 4 = 16\n",
      "4 X 5 = 20\n",
      "4 X 6 = 24\n",
      "4 X 7 = 28\n",
      "4 X 8 = 32\n",
      "4 X 9 = 36\n",
      "4 X 10 = 40\n",
      "Tabla del 5\n",
      "5 X 1 = 5\n",
      "5 X 2 = 10\n",
      "5 X 3 = 15\n",
      "5 X 4 = 20\n",
      "5 X 5 = 25\n",
      "5 X 6 = 30\n",
      "5 X 7 = 35\n",
      "5 X 8 = 40\n",
      "5 X 9 = 45\n",
      "5 X 10 = 50\n",
      "Tabla del 6\n",
      "6 X 1 = 6\n",
      "6 X 2 = 12\n",
      "6 X 3 = 18\n",
      "6 X 4 = 24\n",
      "6 X 5 = 30\n",
      "6 X 6 = 36\n",
      "6 X 7 = 42\n",
      "6 X 8 = 48\n",
      "6 X 9 = 54\n",
      "6 X 10 = 60\n",
      "Tabla del 7\n",
      "7 X 1 = 7\n",
      "7 X 2 = 14\n",
      "7 X 3 = 21\n",
      "7 X 4 = 28\n",
      "7 X 5 = 35\n",
      "7 X 6 = 42\n",
      "7 X 7 = 49\n",
      "7 X 8 = 56\n",
      "7 X 9 = 63\n",
      "7 X 10 = 70\n",
      "###################\n"
     ]
    }
   ],
   "source": [
    "primero = 3\n",
    "\n",
    "while primero <= 7:\n",
    "    print (\"Tabla del \" + str (primero))\n",
    "    segundo = 1\n",
    "    while segundo <= 10:\n",
    "        print (str(primero) + \" X \" + str(segundo) + \" = \" + str(primero * segundo))\n",
    "        segundo += 1\n",
    "    primero += 1\n",
    "print (\"###################\")"
   ]
  },
  {
   "cell_type": "code",
   "execution_count": 74,
   "metadata": {},
   "outputs": [
    {
     "name": "stdout",
     "output_type": "stream",
     "text": [
      "La lavadora se ha comida mi calcetín\n",
      "La lavadora se ha comida mi pantalón\n",
      "La lavadora se ha comida mi camisa\n",
      "La lavadora se ha comida mi camiseta\n",
      "La lavadora se ha comida mi otro calcetín\n",
      "La lavadora se ha comida mi gorra\n"
     ]
    }
   ],
   "source": [
    "# La instrucción FOR se utiliza en Python para recorrer listas, diccionarios y en general iteradores.\n",
    "\n",
    "lista = [\"calcetín\", \"pantalón\", \"camisa\", \"camiseta\", \"otro calcetín\", \"gorra\"]\n",
    "\n",
    "for prenda in lista:\n",
    "    print (\"La lavadora se ha comida mi \" + prenda)"
   ]
  },
  {
   "cell_type": "code",
   "execution_count": 75,
   "metadata": {},
   "outputs": [
    {
     "name": "stdout",
     "output_type": "stream",
     "text": [
      "H\n",
      "o\n",
      "l\n",
      "a\n",
      " \n",
      "M\n",
      "u\n",
      "n\n",
      "d\n",
      "o\n"
     ]
    }
   ],
   "source": [
    "saludo = \"Hola Mundo\"\n",
    "\n",
    "for letra in saludo:\n",
    "    print (letra)"
   ]
  },
  {
   "cell_type": "markdown",
   "metadata": {},
   "source": [
    "EJERCICIO 2:\n",
    "\n",
    "UTILIZAR FOR PARA RECORRER EL SIGUIENTE DICCIONARIO:\n",
    "\n",
    "datos = {“Nombre”: “José”, “Apellido”: “González”, “Altura”: “1,70”} \n"
   ]
  },
  {
   "cell_type": "code",
   "execution_count": 77,
   "metadata": {},
   "outputs": [
    {
     "name": "stdout",
     "output_type": "stream",
     "text": [
      "Nombre: José\n",
      "Apellido: González\n",
      "Altura: 1,70\n"
     ]
    }
   ],
   "source": [
    "datos = {\"Nombre\": \"José\", \"Apellido\": \"González\", \"Altura\": \"1,70\"} \n",
    "\n",
    "for concepto in datos:\n",
    "    print (concepto + \": \" + datos[concepto])"
   ]
  },
  {
   "cell_type": "code",
   "execution_count": 78,
   "metadata": {},
   "outputs": [
    {
     "name": "stdout",
     "output_type": "stream",
     "text": [
      "Nombre: José\n",
      "Apellido: González\n",
      "Altura: 1,70\n"
     ]
    }
   ],
   "source": [
    "datos = {\"Nombre\": \"José\", \"Apellido\": \"González\", \"Altura\": \"1,70\"} \n",
    "\n",
    "for concepto, valor in datos.items() :\n",
    "    print (concepto + \": \" + valor)"
   ]
  },
  {
   "cell_type": "markdown",
   "metadata": {},
   "source": [
    "EJERCICIO 3:\n",
    "\n",
    "ESCRIBIR UN PEQUEÑO PROGRAMA QUE DIVIDA UN NÚMERO POR CERO. VER QUÉ PASA…\n"
   ]
  },
  {
   "cell_type": "code",
   "execution_count": 79,
   "metadata": {},
   "outputs": [
    {
     "ename": "ZeroDivisionError",
     "evalue": "division by zero",
     "output_type": "error",
     "traceback": [
      "\u001b[1;31m---------------------------------------------------------------------------\u001b[0m",
      "\u001b[1;31mZeroDivisionError\u001b[0m                         Traceback (most recent call last)",
      "\u001b[1;32m<ipython-input-79-3ccbadc9b620>\u001b[0m in \u001b[0;36m<module>\u001b[1;34m\u001b[0m\n\u001b[0;32m      2\u001b[0m \u001b[0mdivisor\u001b[0m \u001b[1;33m=\u001b[0m \u001b[1;36m0\u001b[0m\u001b[1;33m\u001b[0m\u001b[1;33m\u001b[0m\u001b[0m\n\u001b[0;32m      3\u001b[0m \u001b[1;33m\u001b[0m\u001b[0m\n\u001b[1;32m----> 4\u001b[1;33m \u001b[0mresultado\u001b[0m \u001b[1;33m=\u001b[0m \u001b[0mdividendo\u001b[0m\u001b[1;33m/\u001b[0m\u001b[0mdivisor\u001b[0m\u001b[1;33m\u001b[0m\u001b[1;33m\u001b[0m\u001b[0m\n\u001b[0m\u001b[0;32m      5\u001b[0m \u001b[0mprint\u001b[0m \u001b[1;33m(\u001b[0m\u001b[1;34m\"La división resulta: \"\u001b[0m\u001b[1;33m,\u001b[0m \u001b[0mresultado\u001b[0m\u001b[1;33m)\u001b[0m\u001b[1;33m\u001b[0m\u001b[1;33m\u001b[0m\u001b[0m\n\u001b[0;32m      6\u001b[0m \u001b[0mprint\u001b[0m \u001b[1;33m(\u001b[0m\u001b[1;34m\"The End\"\u001b[0m\u001b[1;33m)\u001b[0m\u001b[1;33m\u001b[0m\u001b[1;33m\u001b[0m\u001b[0m\n",
      "\u001b[1;31mZeroDivisionError\u001b[0m: division by zero"
     ]
    }
   ],
   "source": [
    "dividendo = 1\n",
    "divisor = 0\n",
    "\n",
    "resultado = dividendo/divisor\n",
    "print (\"La división resulta: \", resultado)\n",
    "print (\"The End\")"
   ]
  },
  {
   "cell_type": "code",
   "execution_count": 80,
   "metadata": {},
   "outputs": [
    {
     "name": "stdout",
     "output_type": "stream",
     "text": [
      "No se puede dividir por cero, animal.\n",
      "The End\n"
     ]
    }
   ],
   "source": [
    "# Los errores en tiempo de ejecución se manejan mediante la estructura TRY.\n",
    "\n",
    "dividendo = 1\n",
    "divisor = 0\n",
    "\n",
    "try:\n",
    "    resultado = dividendo/divisor\n",
    "    print (\"La división resulta: \", resultado)\n",
    "except:\n",
    "    if divisor == 0:\n",
    "        print (\"No se puede dividir por cero, animal.\")\n",
    "print (\"The End\")"
   ]
  },
  {
   "cell_type": "code",
   "execution_count": 81,
   "metadata": {},
   "outputs": [
    {
     "name": "stdout",
     "output_type": "stream",
     "text": [
      "Eso no es un número, animal.\n",
      "The End\n"
     ]
    }
   ],
   "source": [
    "dividendo = \"A\"\n",
    "divisor = 2\n",
    "\n",
    "try:\n",
    "    resultado = dividendo/divisor\n",
    "    print (\"La división resulta: \", resultado)\n",
    "except ZeroDivisionError:\n",
    "    if divisor == 0:\n",
    "        print (\"No se puede dividir por cero, animal.\")\n",
    "except TypeError:\n",
    "        print (\"Eso no es un número, animal.\")\n",
    "print (\"The End\")"
   ]
  },
  {
   "cell_type": "markdown",
   "metadata": {},
   "source": [
    "# Funciones"
   ]
  },
  {
   "cell_type": "markdown",
   "metadata": {},
   "source": [
    "Una función corresponde con una parte de código que puede ser llamada desde varios puntos de nuestro programa. \n"
   ]
  },
  {
   "cell_type": "code",
   "execution_count": 82,
   "metadata": {},
   "outputs": [
    {
     "name": "stdout",
     "output_type": "stream",
     "text": [
      "Hola Mundo, aquí estamos..\n"
     ]
    }
   ],
   "source": [
    "def saluda(cadena):\n",
    "    print (cadena)\n",
    "cadena = \"Hola Mundo, aquí estamos..\"\n",
    "saluda(cadena)"
   ]
  },
  {
   "cell_type": "code",
   "execution_count": 83,
   "metadata": {},
   "outputs": [
    {
     "name": "stdout",
     "output_type": "stream",
     "text": [
      "3.141592\n"
     ]
    }
   ],
   "source": [
    "def dame_pi():\n",
    "    numero_pi = 3.141592\n",
    "    return numero_pi\n",
    "pi = dame_pi()\n",
    "print (pi)"
   ]
  },
  {
   "cell_type": "code",
   "execution_count": 84,
   "metadata": {},
   "outputs": [
    {
     "name": "stdout",
     "output_type": "stream",
     "text": [
      "3.141592\n"
     ]
    }
   ],
   "source": [
    "def dame_pi():\n",
    "    numero_pi = 3.141592\n",
    "    return numero_pi\n",
    "print (dame_pi())"
   ]
  },
  {
   "cell_type": "markdown",
   "metadata": {},
   "source": [
    "EJERCICIO 4:\n",
    "\n",
    "ESCRIBIR UN PEQUEÑO PROGRAMA QUE DADO UN NÚMERO, DEVUELVA EL CUADRADO DE DICHO NÚMERO\n"
   ]
  },
  {
   "cell_type": "code",
   "execution_count": 88,
   "metadata": {},
   "outputs": [
    {
     "name": "stdout",
     "output_type": "stream",
     "text": [
      "5\n",
      "25\n"
     ]
    }
   ],
   "source": [
    "# Lógicamente a las funciones se le deben pasar parámetros (variables). \n",
    "\n",
    "def cuadrado(numero):\n",
    "    cuadrado = numero * numero\n",
    "    return cuadrado\n",
    "\n",
    "valor = input()\n",
    "\n",
    "print (cuadrado(int(valor)))"
   ]
  },
  {
   "cell_type": "markdown",
   "metadata": {},
   "source": [
    "EJERCICIO 5:\n",
    "    \n",
    "ESCRIBIR UN PEQUEÑO PROGRAMA QUE DADO UN NÚMERO (1 AL 10) DEVUELVA LA TABLA DE MULTIPLICAR DE DICHO NÚMERO\n"
   ]
  },
  {
   "cell_type": "code",
   "execution_count": 89,
   "metadata": {},
   "outputs": [
    {
     "name": "stdout",
     "output_type": "stream",
     "text": [
      "5\n",
      "Tabla de multiplicar del 5\n",
      "Impresa automáticamente por Pedro\n",
      "5 X 0 = 0\n",
      "5 X 1 = 5\n",
      "5 X 2 = 10\n",
      "5 X 3 = 15\n",
      "5 X 4 = 20\n",
      "5 X 5 = 25\n",
      "5 X 6 = 30\n",
      "5 X 7 = 35\n",
      "5 X 8 = 40\n",
      "5 X 9 = 45\n",
      "5 X 10 = 50\n"
     ]
    }
   ],
   "source": [
    "def tabla_multiplicar (nombre, numero = 1):\n",
    "    print (\"Tabla de multiplicar del \" + str (numero))\n",
    "    print (\"Impresa automáticamente por \" + nombre)\n",
    "    \n",
    "    i = 0\n",
    "    while i < 11:\n",
    "        print (str(numero) + \" X \" + str(i) + \" = \" + str(numero * i))\n",
    "        i += 1\n",
    "\n",
    "num = input()\n",
    "tabla_multiplicar (\"Pedro\", int(num))"
   ]
  },
  {
   "cell_type": "code",
   "execution_count": 90,
   "metadata": {},
   "outputs": [
    {
     "name": "stdout",
     "output_type": "stream",
     "text": [
      "Lista de Piezas\n",
      "tornillo\n",
      "tuerca\n",
      "otro tornillo\n",
      "cable\n",
      "termómetro\n"
     ]
    }
   ],
   "source": [
    "# A veces desconocemos el número de argumentos que va a recibir una función. \n",
    "# Los argumentos fijos, deben ir al principio.\n",
    "\n",
    "def imprime_lista (nombre_lista, *cosas):\n",
    "    print (\"Lista de \" + nombre_lista)\n",
    "    \n",
    "    for cosa in cosas:\n",
    "        print (cosa)\n",
    "\n",
    "imprime_lista (\"Piezas\", \"tornillo\", \"tuerca\", \"otro tornillo\", \"cable\", \"termómetro\")"
   ]
  },
  {
   "cell_type": "code",
   "execution_count": 91,
   "metadata": {},
   "outputs": [
    {
     "name": "stdout",
     "output_type": "stream",
     "text": [
      "Datos de Pablo\n",
      "edad: mucha\n",
      "estado: Uyyyy\n",
      "agradable: A veces\n"
     ]
    }
   ],
   "source": [
    "def imprime_datos (nombre, **datos):\n",
    "    print (\"Datos de \" + nombre)\n",
    "    for clave in datos:\n",
    "        print (clave + \": \" + datos[clave])\n",
    "\n",
    "imprime_datos (\"Pablo\", edad = \"mucha\", estado = \"Uyyyy\", agradable = \"A veces\")"
   ]
  },
  {
   "cell_type": "code",
   "execution_count": 92,
   "metadata": {},
   "outputs": [
    {
     "name": "stdout",
     "output_type": "stream",
     "text": [
      "dentro de la función\n",
      "fuera de la función\n"
     ]
    }
   ],
   "source": [
    "# El ámbito de una variable corresponde con la parte de código donde esta es accesible.\n",
    "\n",
    "variable = \"fuera de la función\"\n",
    "\n",
    "def una_funcion():\n",
    "    variable = \"dentro de la función\"\n",
    "    print (variable)\n",
    "\n",
    "una_funcion()\n",
    "\n",
    "print (variable)"
   ]
  },
  {
   "cell_type": "code",
   "execution_count": 93,
   "metadata": {},
   "outputs": [
    {
     "name": "stdout",
     "output_type": "stream",
     "text": [
      "fuera de la función\n",
      "fuera de la función\n"
     ]
    }
   ],
   "source": [
    "variable = \"fuera de la función\"\n",
    "\n",
    "def una_funcion():\n",
    "    # no asignamos valor a la variable\n",
    "    print (variable)\n",
    "\n",
    "una_funcion()\n",
    "\n",
    "print (variable)"
   ]
  },
  {
   "cell_type": "code",
   "execution_count": 94,
   "metadata": {},
   "outputs": [
    {
     "name": "stdout",
     "output_type": "stream",
     "text": [
      "dentro de la función\n",
      "dentro de la función\n"
     ]
    }
   ],
   "source": [
    "# Sin embargo, se pueden declarar variables globales dentro de una función\n",
    "\n",
    "variable = \"fuera de la función\"\n",
    "\n",
    "def una_funcion():\n",
    "    global variable \n",
    "    variable = \"dentro de la función\"\n",
    "    print (variable)\n",
    "\n",
    "una_funcion()\n",
    "\n",
    "print (variable)\n"
   ]
  },
  {
   "cell_type": "markdown",
   "metadata": {},
   "source": [
    "EJERCICIO 6:\n",
    "\n",
    "ESCRIBIR UN PEQUEÑO PROGRAMA QUE RECIBA COMO PARÁMETROS DOS NÚMEROS Y DEVUELVA CUAL ES EL MAYOR\n"
   ]
  },
  {
   "cell_type": "code",
   "execution_count": 95,
   "metadata": {},
   "outputs": [
    {
     "name": "stdout",
     "output_type": "stream",
     "text": [
      "El número mayor es 100\n"
     ]
    },
    {
     "data": {
      "text/plain": [
       "1"
      ]
     },
     "execution_count": 95,
     "metadata": {},
     "output_type": "execute_result"
    }
   ],
   "source": [
    "\"\"\" Esta función se utiliza para comparar dos \n",
    "números indicando cuál es el mayor de ambos\"\"\"\n",
    "\n",
    "def compara_numeros (n1, n2):\n",
    "    if (n1 > n2):\n",
    "        print (\"El número mayor es \" + str(n1))\n",
    "        return 1\n",
    "    elif (n1 < n2):\n",
    "        print (\"El número mayor es \" + str(n2))\n",
    "        return 2\n",
    "    else:\n",
    "        print (\"Ambos números son iguales\" + str(n1))\n",
    "        return 0\n",
    "compara_numeros (100, 7) "
   ]
  },
  {
   "cell_type": "code",
   "execution_count": 96,
   "metadata": {},
   "outputs": [
    {
     "data": {
      "text/plain": [
       "[1, 4, 9, 16, 25]"
      ]
     },
     "execution_count": 96,
     "metadata": {},
     "output_type": "execute_result"
    }
   ],
   "source": [
    "def squares(numbers):\n",
    "  return [number*number for number in numbers]\n",
    "\n",
    "squares([1,2,3,4,5])"
   ]
  },
  {
   "cell_type": "markdown",
   "metadata": {},
   "source": [
    "Esta forma de hacerlo tiene un problema, todos los resultados se generan de una vez. Si la lista numbers fuese muy grande, el tiempo de ejecución podría ser considerable."
   ]
  },
  {
   "cell_type": "markdown",
   "metadata": {},
   "source": [
    "yield es una orden muy similar a un return, con una gran diferencia, yield pausará la ejecución de tu función y guardará el estado de la misma hasta que decidas usarla de nuevo.\n",
    "\n",
    "¿Y si pudiéramos calcular los cuadrados uno a uno? Si no necesitamos todos los resultados, esto podría ser muy útil. Ahora yield va a ser muy útil. \n"
   ]
  },
  {
   "cell_type": "code",
   "execution_count": 97,
   "metadata": {},
   "outputs": [
    {
     "data": {
      "text/plain": [
       "<generator object squares at 0x0000019DFE4BE660>"
      ]
     },
     "execution_count": 97,
     "metadata": {},
     "output_type": "execute_result"
    }
   ],
   "source": [
    "def squares(numbers):\n",
    "  for number in numbers:\n",
    "    yield number*number\n",
    "\n",
    "squares([1,2,3,4,5])"
   ]
  },
  {
   "cell_type": "code",
   "execution_count": 98,
   "metadata": {},
   "outputs": [
    {
     "name": "stdout",
     "output_type": "stream",
     "text": [
      "1\n",
      "4\n",
      "9\n"
     ]
    }
   ],
   "source": [
    "# Ahora podemos iterar sobre el generador\n",
    "for square in squares([1,2,3]):\n",
    "   print(square)"
   ]
  },
  {
   "cell_type": "code",
   "execution_count": 99,
   "metadata": {},
   "outputs": [
    {
     "name": "stdout",
     "output_type": "stream",
     "text": [
      "1\n",
      "2\n",
      "3\n",
      "4\n",
      "5\n",
      "6\n",
      "7\n",
      "8\n",
      "9\n",
      "10\n"
     ]
    }
   ],
   "source": [
    "\"\"\" En este caso se genera la lista, después se hace un return \n",
    "y por último un bucle for para su impresión, con \n",
    "el consiguiente tiempo de proceso y almacenamiento\"\"\"\n",
    "\n",
    "def genera_lista(num):\n",
    "    lista = []\n",
    "    i = 1\n",
    "    while i <= num:\n",
    "        lista.append (i)\n",
    "        i += 1\n",
    "    return lista\n",
    "\n",
    "for i in genera_lista(10):\n",
    "    print (i)"
   ]
  },
  {
   "cell_type": "code",
   "execution_count": 100,
   "metadata": {},
   "outputs": [
    {
     "name": "stdout",
     "output_type": "stream",
     "text": [
      "1\n",
      "2\n",
      "3\n",
      "4\n",
      "5\n",
      "6\n",
      "7\n",
      "8\n",
      "9\n",
      "10\n"
     ]
    }
   ],
   "source": [
    "\"\"\" Si utilizamos un generador nos ayudará a devolver un valor cada vez\"\"\"\n",
    "\n",
    "def genera_lista(num):\n",
    "    lista = []\n",
    "    i = 1\n",
    "    while i <= num:\n",
    "        yield i\n",
    "        i += 1\n",
    "lista = genera_lista (10)\n",
    "\n",
    "for i in genera_lista(10):\n",
    "    print (i)"
   ]
  },
  {
   "cell_type": "code",
   "execution_count": 101,
   "metadata": {},
   "outputs": [
    {
     "name": "stdout",
     "output_type": "stream",
     "text": [
      "Instanciando contador\n",
      "Contador instanciado\n",
      "=Dentro de contador - empezando\n",
      "=Dentro de contador - viene yield con n=0\n",
      "valor leido del iterador=0\n",
      "=Dentro de contador - retomando después de yield\n",
      "=Dentro de contador - viene yield con n=1\n",
      "valor leido del iterador=1\n",
      "=Dentro de contador - retomando después de yield\n",
      "=Dentro de contador - viene yield con n=2\n",
      "valor leido del iterador=2\n",
      "=Dentro de contador - retomando después de yield\n",
      "=Dentro de contador - terminando\n",
      "Listo\n"
     ]
    }
   ],
   "source": [
    "def contador(max):\n",
    "    print(\"=Dentro de contador - empezando\")\n",
    "    n=0\n",
    "    while n < max:\n",
    "        print(f\"=Dentro de contador - viene yield con n={n}\")\n",
    "        yield n\n",
    "        print(\"=Dentro de contador - retomando después de yield\")\n",
    "        n=n+1\n",
    "    print(\"=Dentro de contador - terminando\")\n",
    "\n",
    "print(\"Instanciando contador\") \n",
    "mycont = contador(3)\n",
    "print(\"Contador instanciado\") \n",
    "\n",
    "for i in mycont:\n",
    "    print(f\"valor leido del iterador={i}\") \n",
    "print(\"Listo\") "
   ]
  },
  {
   "cell_type": "code",
   "execution_count": 103,
   "metadata": {
    "scrolled": true
   },
   "outputs": [
    {
     "name": "stdout",
     "output_type": "stream",
     "text": [
      "Hola Pedro\n",
      "Que tengas un buen día\n",
      "Buenos días, guapa\n",
      "Que tengas un buen día\n"
     ]
    }
   ],
   "source": [
    "# Primero se ejecuta la función saludo (\"Nombre\"), la salida es \"Hola\" + nombre\n",
    "# La función de entrada funcion_entrada de decorador es saludo(nombre)\n",
    "# El param de la funcion_salida es nombre\n",
    "# Luego si el nombre es Pablo, nos devuelve la funcion_salida \"Buenos días, guapo\"\n",
    "\n",
    "def decorador(funcion_entrada):\n",
    "    def funcion_salida (param):\n",
    "        if param == \"Lidia\":\n",
    "            print (\"Buenos días, guapa\")\n",
    "        elif param == \"Pablo\":\n",
    "            print (\"Buenos días, guapo\")\n",
    "        else:\n",
    "            funcion_entrada(param)\n",
    "        print (\"Que tengas un buen día\")\n",
    "    return funcion_salida \n",
    "\n",
    "@decorador\n",
    "def saludo(nombre):\n",
    "    print (\"Hola \" + nombre)\n",
    "    \n",
    "saludo (\"Pedro\")\n",
    "saludo (\"Lidia\")"
   ]
  },
  {
   "cell_type": "code",
   "execution_count": 104,
   "metadata": {},
   "outputs": [
    {
     "name": "stdout",
     "output_type": "stream",
     "text": [
      "Se va a llamar\n",
      "5 8\n",
      "Entra en funcion suma\n",
      "Se ha llamado\n"
     ]
    },
    {
     "data": {
      "text/plain": [
       "13"
      ]
     },
     "execution_count": 104,
     "metadata": {},
     "output_type": "execute_result"
    }
   ],
   "source": [
    "# Tenemos una función suma() que vamos a decorar usando mi_decorador(). \n",
    "# Para ello, antes de la declaración de la función suma, hacemos uso de @mi_decorador.\n",
    "\n",
    "def mi_decorador(funcion):\n",
    "    def nueva_funcion(a, b):\n",
    "        print(\"Se va a llamar\")\n",
    "        print (a, b)\n",
    "        c = funcion(a, b)\n",
    "        print(\"Se ha llamado\")\n",
    "        return c\n",
    "    return nueva_funcion\n",
    "\n",
    "@mi_decorador\n",
    "def suma(a, b):\n",
    "    print(\"Entra en funcion suma\")\n",
    "    return a + b\n",
    "\n",
    "suma(5,8)\n",
    "\n",
    "# Se va a llamar\n",
    "# Entra en funcion suma\n",
    "# Se ha llamado"
   ]
  },
  {
   "cell_type": "code",
   "execution_count": null,
   "metadata": {},
   "outputs": [],
   "source": []
  }
 ],
 "metadata": {
  "kernelspec": {
   "display_name": "Python 3 (ipykernel)",
   "language": "python",
   "name": "python3"
  },
  "language_info": {
   "codemirror_mode": {
    "name": "ipython",
    "version": 3
   },
   "file_extension": ".py",
   "mimetype": "text/x-python",
   "name": "python",
   "nbconvert_exporter": "python",
   "pygments_lexer": "ipython3",
   "version": "3.9.7"
  }
 },
 "nbformat": 4,
 "nbformat_minor": 4
}
